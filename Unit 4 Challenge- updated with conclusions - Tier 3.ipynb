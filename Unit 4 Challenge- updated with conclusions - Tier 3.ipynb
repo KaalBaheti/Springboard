{
 "cells": [
  {
   "cell_type": "markdown",
   "metadata": {
    "colab_type": "text",
    "id": "Tia3MP1SJpgj"
   },
   "source": [
    "# Springboard Data Science Career Track Unit 4 Challenge - Tier 3 Complete\n",
    "\n",
    "## Objectives\n",
    "Hey! Great job getting through those challenging DataCamp courses. You're learning a lot in a short span of time. \n",
    "\n",
    "In this notebook, you're going to apply the skills you've been learning, bridging the gap between the controlled environment of DataCamp and the *slightly* messier work that data scientists do with actual datasets!\n",
    "\n",
    "Here’s the mystery we’re going to solve: ***which boroughs of London have seen the greatest increase in housing prices, on average, over the last two decades?***\n",
    "\n",
    "\n",
    "A borough is just a fancy word for district. You may be familiar with the five boroughs of New York… well, there are 32 boroughs within Greater London [(here's some info for the curious)](https://en.wikipedia.org/wiki/London_boroughs). Some of them are more desirable areas to live in, and the data will reflect that with a greater rise in housing prices.\n",
    "\n",
    "***This is the Tier 3 notebook, which means it's not filled in at all: we'll just give you the skeleton of a project, the brief and the data. It's up to you to play around with it and see what you can find out! Good luck! If you struggle, feel free to look at easier tiers for help; but try to dip in and out of them, as the more independent work you do, the better it is for your learning!***\n",
    "\n",
    "This challenge will make use of only what you learned in the following DataCamp courses: \n",
    "- Prework courses (Introduction to Python for Data Science, Intermediate Python for Data Science)\n",
    "- Data Types for Data Science\n",
    "- Python Data Science Toolbox (Part One) \n",
    "- pandas Foundations\n",
    "- Manipulating DataFrames with pandas\n",
    "- Merging DataFrames with pandas\n",
    "\n",
    "Of the tools, techniques and concepts in the above DataCamp courses, this challenge should require the application of the following: \n",
    "- **pandas**\n",
    "    - **data ingestion and inspection** (pandas Foundations, Module One) \n",
    "    - **exploratory data analysis** (pandas Foundations, Module Two)\n",
    "    - **tidying and cleaning** (Manipulating DataFrames with pandas, Module Three) \n",
    "    - **transforming DataFrames** (Manipulating DataFrames with pandas, Module One)\n",
    "    - **subsetting DataFrames with lists** (Manipulating DataFrames with pandas, Module One) \n",
    "    - **filtering DataFrames** (Manipulating DataFrames with pandas, Module One) \n",
    "    - **grouping data** (Manipulating DataFrames with pandas, Module Four) \n",
    "    - **melting data** (Manipulating DataFrames with pandas, Module Three) \n",
    "    - **advanced indexing** (Manipulating DataFrames with pandas, Module Four) \n",
    "- **matplotlib** (Intermediate Python for Data Science, Module One)\n",
    "- **fundamental data types** (Data Types for Data Science, Module One) \n",
    "- **dictionaries** (Intermediate Python for Data Science, Module Two)\n",
    "- **handling dates and times** (Data Types for Data Science, Module Four)\n",
    "- **function definition** (Python Data Science Toolbox - Part One, Module One)\n",
    "- **default arguments, variable length, and scope** (Python Data Science Toolbox - Part One, Module Two) \n",
    "- **lambda functions and error handling** (Python Data Science Toolbox - Part One, Module Four) "
   ]
  },
  {
   "cell_type": "markdown",
   "metadata": {
    "colab_type": "text",
    "id": "Ipgd2nV8Jpgl"
   },
   "source": [
    "## The Data Science Pipeline\n",
    "\n",
    "This is Tier Three, so we'll get you started. But after that, it's all in your hands! When you feel done with your investigations, look back over what you've accomplished, and prepare a quick presentation of your findings for the next mentor meeting. \n",
    "\n",
    "Data Science is magical. In this case study, you'll get to apply some complex machine learning algorithms. But as  [David Spiegelhalter](https://www.youtube.com/watch?v=oUs1uvsz0Ok) reminds us, there is no substitute for simply **taking a really, really good look at the data.** Sometimes, this is all we need to answer our question.\n",
    "\n",
    "Data Science projects generally adhere to the four stages of Data Science Pipeline:\n",
    "1. Sourcing and loading \n",
    "2. Cleaning, transforming, and visualizing \n",
    "3. Modeling \n",
    "4. Evaluating and concluding \n"
   ]
  },
  {
   "cell_type": "markdown",
   "metadata": {
    "colab_type": "text",
    "id": "zswDqbefJpgm"
   },
   "source": [
    "### 1. Sourcing and Loading \n",
    "\n",
    "Any Data Science project kicks off by importing  ***pandas***. The documentation of this wonderful library can be found [here](https://pandas.pydata.org/). As you've seen, pandas is conveniently connected to the [Numpy](http://www.numpy.org/) and [Matplotlib](https://matplotlib.org/) libraries. \n",
    "\n",
    "***Hint:*** This part of the data science pipeline will test those skills you acquired in the pandas Foundations course, Module One. "
   ]
  },
  {
   "cell_type": "markdown",
   "metadata": {
    "colab_type": "text",
    "id": "aEau5nEvJpgm"
   },
   "source": [
    "#### 1.1. Importing Libraries"
   ]
  },
  {
   "cell_type": "code",
   "execution_count": 1,
   "metadata": {
    "colab": {},
    "colab_type": "code",
    "id": "7Bt_Q_oPJpgn"
   },
   "outputs": [],
   "source": [
    "# Let's import the pandas, numpy libraries as pd, and np respectively. \n",
    "import pandas as pd\n",
    "import numpy as np\n",
    "# Load the pyplot collection of functions from matplotlib, as plt \n",
    "import matplotlib.pyplot as plt"
   ]
  },
  {
   "cell_type": "markdown",
   "metadata": {
    "colab_type": "text",
    "id": "koUrawxsJpgq"
   },
   "source": [
    "#### 1.2.  Loading the data\n",
    "Your data comes from the [London Datastore](https://data.london.gov.uk/): a free, open-source data-sharing portal for London-oriented datasets. "
   ]
  },
  {
   "cell_type": "code",
   "execution_count": 2,
   "metadata": {
    "colab": {},
    "colab_type": "code",
    "id": "AiLiD4v3Jpgr"
   },
   "outputs": [],
   "source": [
    "# First, make a variable called url_LondonHousePrices, and assign it the following link, enclosed in quotation-marks as a string:\n",
    "# https://data.london.gov.uk/download/uk-house-price-index/70ac0766-8902-4eb5-aab5-01951aaed773/UK%20House%20price%20index.xls\n",
    "\n",
    "url_LondonHousePrices = \"https://data.london.gov.uk/download/uk-house-price-index/70ac0766-8902-4eb5-aab5-01951aaed773/UK%20House%20price%20index.xls\"\n",
    "\n",
    "# The dataset we're interested in contains the Average prices of the houses, and is actually on a particular sheet of the Excel file. \n",
    "# As a result, we need to specify the sheet name in the read_excel() method.\n",
    "# Put this data into a variable called properties.  \n",
    "properties = pd.read_excel(url_LondonHousePrices, sheet_name='Average price', index_col= None)"
   ]
  },
  {
   "cell_type": "markdown",
   "metadata": {
    "colab_type": "text",
    "id": "POukEJXgJpgu"
   },
   "source": [
    "### 2. Cleaning, transforming, and visualizing\n",
    "This second stage is arguably the most important part of any Data Science project. The first thing to do is take a proper look at the data. Cleaning forms the majority of this stage, and can be done both before or after Transformation.\n",
    "\n",
    "The end goal of data cleaning is to have tidy data. When data is tidy: \n",
    "\n",
    "1. Each variable has a column.\n",
    "2. Each observation forms a row.\n",
    "\n",
    "Keep the end goal in mind as you move through this process, every step will take you closer. \n",
    "\n",
    "\n",
    "\n",
    "***Hint:*** This part of the data science pipeline should test those skills you acquired in: \n",
    "- Intermediate Python for data science, all modules.\n",
    "- pandas Foundations, all modules. \n",
    "- Manipulating DataFrames with pandas, all modules.\n",
    "- Data Types for Data Science, Module Four.\n",
    "- Python Data Science Toolbox - Part One, all modules"
   ]
  },
  {
   "cell_type": "markdown",
   "metadata": {
    "colab_type": "text",
    "id": "Te0Q548tnzZa"
   },
   "source": [
    "**2.1. Exploring your data** \n",
    "\n",
    "Think about your pandas functions for checking out a dataframe. "
   ]
  },
  {
   "cell_type": "code",
   "execution_count": 4,
   "metadata": {
    "colab": {},
    "colab_type": "code",
    "id": "Rxirxw_qoAJa"
   },
   "outputs": [
    {
     "name": "stdout",
     "output_type": "stream",
     "text": [
      "  Unnamed: 0 City of London Barking & Dagenham       Barnet       Bexley  \\\n",
      "0        NaT      E09000001          E09000002    E09000003    E09000004   \n",
      "1 1995-01-01    91448.98487         50460.2266  93284.51832  64958.09036   \n",
      "2 1995-02-01    82202.77314        51085.77983  93190.16963  64787.92069   \n",
      "3 1995-03-01    79120.70256        51268.96956  92247.52435  64367.49344   \n",
      "4 1995-04-01    77101.20804        53133.50526  90762.87492  64277.66881   \n",
      "\n",
      "         Brent      Bromley       Camden      Croydon       Ealing  ...  \\\n",
      "0    E09000005    E09000006    E09000007    E09000008    E09000009  ...   \n",
      "1  71306.56698  81671.47692  120932.8881  69158.16225  79885.89069  ...   \n",
      "2  72022.26197  81657.55944  119508.8622  68951.09542  80897.06551  ...   \n",
      "3  72015.76274  81449.31143  120282.2131  68712.44341  81379.86288  ...   \n",
      "4  72965.63094  81124.41227   120097.899  68610.04641  82188.90498  ...   \n",
      "\n",
      "    NORTH WEST YORKS & THE HUMBER EAST MIDLANDS WEST MIDLANDS EAST OF ENGLAND  \\\n",
      "0    E12000002          E12000003     E12000004     E12000005       E12000006   \n",
      "1  43958.48001        44803.42878   45544.52227   48527.52339      56701.5961   \n",
      "2  43925.42289        44528.80721   46051.57066   49341.29029     56593.59475   \n",
      "3   44434.8681        45200.46775   45383.82395   49442.17973     56171.18278   \n",
      "4   44267.7796        45614.34341   46124.23045   49455.93299     56567.89582   \n",
      "\n",
      "        LONDON   SOUTH EAST   SOUTH WEST Unnamed: 47      England  \n",
      "0    E12000007    E12000008    E12000009         NaN    E92000001  \n",
      "1  74435.76052  64018.87894   54705.1579         NaN  53202.77128  \n",
      "2  72777.93709  63715.02399  54356.14843         NaN   53096.1549  \n",
      "3  73896.84204  64113.60858  53583.07667         NaN   53201.2843  \n",
      "4  74455.28754  64623.22395  54786.01938         NaN   53590.8548  \n",
      "\n",
      "[5 rows x 49 columns]\n",
      "<class 'pandas.core.frame.DataFrame'>\n",
      "RangeIndex: 337 entries, 0 to 336\n",
      "Data columns (total 49 columns):\n",
      " #   Column                Non-Null Count  Dtype         \n",
      "---  ------                --------------  -----         \n",
      " 0   Unnamed: 0            336 non-null    datetime64[ns]\n",
      " 1   City of London        337 non-null    object        \n",
      " 2   Barking & Dagenham    337 non-null    object        \n",
      " 3   Barnet                337 non-null    object        \n",
      " 4   Bexley                337 non-null    object        \n",
      " 5   Brent                 337 non-null    object        \n",
      " 6   Bromley               337 non-null    object        \n",
      " 7   Camden                337 non-null    object        \n",
      " 8   Croydon               337 non-null    object        \n",
      " 9   Ealing                337 non-null    object        \n",
      " 10  Enfield               337 non-null    object        \n",
      " 11  Greenwich             337 non-null    object        \n",
      " 12  Hackney               337 non-null    object        \n",
      " 13  Hammersmith & Fulham  337 non-null    object        \n",
      " 14  Haringey              337 non-null    object        \n",
      " 15  Harrow                337 non-null    object        \n",
      " 16  Havering              337 non-null    object        \n",
      " 17  Hillingdon            337 non-null    object        \n",
      " 18  Hounslow              337 non-null    object        \n",
      " 19  Islington             337 non-null    object        \n",
      " 20  Kensington & Chelsea  337 non-null    object        \n",
      " 21  Kingston upon Thames  337 non-null    object        \n",
      " 22  Lambeth               337 non-null    object        \n",
      " 23  Lewisham              337 non-null    object        \n",
      " 24  Merton                337 non-null    object        \n",
      " 25  Newham                337 non-null    object        \n",
      " 26  Redbridge             337 non-null    object        \n",
      " 27  Richmond upon Thames  337 non-null    object        \n",
      " 28  Southwark             337 non-null    object        \n",
      " 29  Sutton                337 non-null    object        \n",
      " 30  Tower Hamlets         337 non-null    object        \n",
      " 31  Waltham Forest        337 non-null    object        \n",
      " 32  Wandsworth            337 non-null    object        \n",
      " 33  Westminster           337 non-null    object        \n",
      " 34  Unnamed: 34           0 non-null      float64       \n",
      " 35  Inner London          337 non-null    object        \n",
      " 36  Outer London          337 non-null    object        \n",
      " 37  Unnamed: 37           0 non-null      float64       \n",
      " 38  NORTH EAST            337 non-null    object        \n",
      " 39  NORTH WEST            337 non-null    object        \n",
      " 40  YORKS & THE HUMBER    337 non-null    object        \n",
      " 41  EAST MIDLANDS         337 non-null    object        \n",
      " 42  WEST MIDLANDS         337 non-null    object        \n",
      " 43  EAST OF ENGLAND       337 non-null    object        \n",
      " 44  LONDON                337 non-null    object        \n",
      " 45  SOUTH EAST            337 non-null    object        \n",
      " 46  SOUTH WEST            337 non-null    object        \n",
      " 47  Unnamed: 47           0 non-null      float64       \n",
      " 48  England               337 non-null    object        \n",
      "dtypes: datetime64[ns](1), float64(3), object(45)\n",
      "memory usage: 129.1+ KB\n",
      "None\n"
     ]
    }
   ],
   "source": [
    "print(properties.head())\n",
    "print(properties.info())"
   ]
  },
  {
   "cell_type": "markdown",
   "metadata": {
    "colab_type": "text",
    "id": "tE9Sqt9-oAta"
   },
   "source": [
    "**2.2. Cleaning the data**\n",
    "\n",
    "You might find you need to transpose your dataframe, check out what its row indexes are, and reset the index. You  also might find you need to assign the values of the first row to your column headings  . (Hint: recall the .columns feature of DataFrames, as well as the iloc[] method).\n",
    "\n",
    "Don't be afraid to use StackOverflow for help  with this."
   ]
  },
  {
   "cell_type": "code",
   "execution_count": 6,
   "metadata": {
    "colab": {},
    "colab_type": "code",
    "id": "cdAu1A3YoH_r"
   },
   "outputs": [
    {
     "name": "stdout",
     "output_type": "stream",
     "text": [
      "0          Unnamed: 0        NaT 1995-01-01 00:00:00 1995-02-01 00:00:00  \\\n",
      "1      City of London  E09000001         91448.98487         82202.77314   \n",
      "2  Barking & Dagenham  E09000002          50460.2266         51085.77983   \n",
      "3              Barnet  E09000003         93284.51832         93190.16963   \n",
      "4              Bexley  E09000004         64958.09036         64787.92069   \n",
      "5               Brent  E09000005         71306.56698         72022.26197   \n",
      "\n",
      "0 1995-03-01 00:00:00 1995-04-01 00:00:00 1995-05-01 00:00:00  \\\n",
      "1         79120.70256         77101.20804         84409.14932   \n",
      "2         51268.96956         53133.50526         53042.24852   \n",
      "3         92247.52435         90762.87492         90258.00033   \n",
      "4         64367.49344         64277.66881         63997.13588   \n",
      "5         72015.76274         72965.63094         73704.04743   \n",
      "\n",
      "0 1995-06-01 00:00:00 1995-07-01 00:00:00 1995-08-01 00:00:00  ...  \\\n",
      "1         94900.51244         110128.0423         112329.4376  ...   \n",
      "2         53700.34831         52113.12157         52232.19868  ...   \n",
      "3         90107.23471         91441.24768         92361.31512  ...   \n",
      "4         64252.32335         63722.70055         64432.60005  ...   \n",
      "5         74310.48167         74127.03788          73547.0411  ...   \n",
      "\n",
      "0 2022-03-01 00:00:00 2022-04-01 00:00:00 2022-05-01 00:00:00  \\\n",
      "1        816775.77458        808791.66477         797896.0674   \n",
      "2        337639.17828        333921.39153        337201.79953   \n",
      "3        573655.09452        581811.27928        587188.06846   \n",
      "4        386972.05239         385161.3244         386673.4299   \n",
      "5         508372.8301        522338.64309        533942.03626   \n",
      "\n",
      "0 2022-06-01 00:00:00 2022-07-01 00:00:00 2022-08-01 00:00:00  \\\n",
      "1        819762.37181        809689.46627        827996.60081   \n",
      "2        345873.99616        349371.12076        350239.35981   \n",
      "3        592754.89104        594041.83267         601931.6599   \n",
      "4        391819.71089        396385.99016        402667.50443   \n",
      "5        536486.89116        552316.75952        562407.51963   \n",
      "\n",
      "0 2022-09-01 00:00:00 2022-10-01 00:00:00 2022-11-01 00:00:00  \\\n",
      "1        827441.27622        870799.60044         948073.2088   \n",
      "2        349653.85502        355290.62346        359495.10689   \n",
      "3        605424.18481        597777.32861        587967.70766   \n",
      "4        403468.56545        409719.69933        410407.63764   \n",
      "5         584927.5386        578010.59307        572262.24808   \n",
      "\n",
      "0 2022-12-01 00:00:00  \n",
      "1         968059.9863  \n",
      "2        362054.07567  \n",
      "3        595486.30411  \n",
      "4        416059.80994  \n",
      "5        566794.73925  \n",
      "\n",
      "[5 rows x 338 columns]\n"
     ]
    }
   ],
   "source": [
    "# We transpose the data to make it more readable and useful, reset index\n",
    "properties_transpose = properties.T\n",
    "prop_tran_reset = properties_transpose.reset_index()\n",
    "prop_tran_reset.columns = prop_tran_reset.iloc[0]\n",
    "prop_tran_reset = prop_tran_reset.drop(prop_tran_reset.index[0])\n",
    "print(prop_tran_reset.head())"
   ]
  },
  {
   "cell_type": "markdown",
   "metadata": {
    "colab_type": "text",
    "id": "o1uLbJAsoIjK"
   },
   "source": [
    "**2.3. Cleaning the data (part 2)**\n",
    "\n",
    "You might we have to **rename** a couple columns. How do you do this? The clue's pretty bold..."
   ]
  },
  {
   "cell_type": "code",
   "execution_count": 7,
   "metadata": {
    "colab": {},
    "colab_type": "code",
    "id": "GKkmn1AnoVZS"
   },
   "outputs": [],
   "source": [
    "# rename columns to make them easy to understand\n",
    "prop_tran_reset = prop_tran_reset.rename(columns={'Unnamed: 0' : 'Borough', pd.NaT : 'Postcode'})"
   ]
  },
  {
   "cell_type": "markdown",
   "metadata": {
    "colab_type": "text",
    "id": "jy8BzXHmoWEw"
   },
   "source": [
    "**2.4.Transforming the data**\n",
    "\n",
    "Remember what Wes McKinney said about tidy data? \n",
    "\n",
    "You might need to **melt** your DataFrame here. "
   ]
  },
  {
   "cell_type": "code",
   "execution_count": 8,
   "metadata": {
    "colab": {},
    "colab_type": "code",
    "id": "S2wM0qLuo2Zt"
   },
   "outputs": [
    {
     "name": "stdout",
     "output_type": "stream",
     "text": [
      "                  Borough   Postcode Year-Month Average Price\n",
      "0          City of London  E09000001 1995-01-01   91448.98487\n",
      "1      Barking & Dagenham  E09000002 1995-01-01    50460.2266\n",
      "2                  Barnet  E09000003 1995-01-01   93284.51832\n",
      "3                  Bexley  E09000004 1995-01-01   64958.09036\n",
      "4                   Brent  E09000005 1995-01-01   71306.56698\n",
      "...                   ...        ...        ...           ...\n",
      "16123              LONDON  E12000007 2022-12-01  543098.82276\n",
      "16124          SOUTH EAST  E12000008 2022-12-01  404228.91584\n",
      "16125          SOUTH WEST  E12000009 2022-12-01  330601.04469\n",
      "16126         Unnamed: 47        NaN 2022-12-01           NaN\n",
      "16127             England  E92000001 2022-12-01  315119.06969\n",
      "\n",
      "[16128 rows x 4 columns]\n"
     ]
    }
   ],
   "source": [
    "# melt to make the data easy to read and rename columns\n",
    "Housing_data = pd.melt(prop_tran_reset, id_vars = ['Borough', 'Postcode'] )\n",
    "Housing_data = Housing_data.rename(columns={0 : 'Year-Month', 'value' : 'Average Price'})\n",
    "print(Housing_data)"
   ]
  },
  {
   "cell_type": "markdown",
   "metadata": {
    "colab_type": "text",
    "id": "7kIsgAo7o3mf"
   },
   "source": [
    "Remember to make sure your column data types are all correct. Average prices, for example, should be floating point numbers... "
   ]
  },
  {
   "cell_type": "code",
   "execution_count": 9,
   "metadata": {
    "colab": {},
    "colab_type": "code",
    "id": "ZcR4IHbcpOaq"
   },
   "outputs": [
    {
     "data": {
      "text/plain": [
       "Borough                  object\n",
       "Postcode                 object\n",
       "Year-Month       datetime64[ns]\n",
       "Average Price           float64\n",
       "dtype: object"
      ]
     },
     "execution_count": 9,
     "metadata": {},
     "output_type": "execute_result"
    }
   ],
   "source": [
    "#convert housing data column Average Price to float type\n",
    "Housing_data.dtypes\n",
    "Housing_data = Housing_data.astype({'Average Price' : float})\n",
    "Housing_data.dtypes"
   ]
  },
  {
   "cell_type": "markdown",
   "metadata": {
    "colab_type": "text",
    "id": "knLUXHLypOtw"
   },
   "source": [
    "**2.5. Cleaning the data (part 3)**\n",
    "\n",
    "Do we have an equal number of observations in the ID, Average Price, Month, and London Borough columns? Remember that there are only 32 London Boroughs. How many entries do you have in that column? \n",
    "\n",
    "Check out the contents of the London Borough column, and if you find null values, get rid of them however you see fit. "
   ]
  },
  {
   "cell_type": "code",
   "execution_count": 10,
   "metadata": {
    "colab": {},
    "colab_type": "code",
    "id": "BnvTW5a3p0fC"
   },
   "outputs": [
    {
     "name": "stdout",
     "output_type": "stream",
     "text": [
      "                  Borough   Postcode Year-Month  Average Price\n",
      "0          City of London  E09000001 1995-01-01    91448.98487\n",
      "1      Barking & Dagenham  E09000002 1995-01-01    50460.22660\n",
      "2                  Barnet  E09000003 1995-01-01    93284.51832\n",
      "3                  Bexley  E09000004 1995-01-01    64958.09036\n",
      "4                   Brent  E09000005 1995-01-01    71306.56698\n",
      "...                   ...        ...        ...            ...\n",
      "16122     EAST OF ENGLAND  E12000006 2022-12-01   363779.44643\n",
      "16123              LONDON  E12000007 2022-12-01   543098.82276\n",
      "16124          SOUTH EAST  E12000008 2022-12-01   404228.91584\n",
      "16125          SOUTH WEST  E12000009 2022-12-01   330601.04469\n",
      "16127             England  E92000001 2022-12-01   315119.06969\n",
      "\n",
      "[15120 rows x 4 columns]\n"
     ]
    }
   ],
   "source": [
    "#drop the null values in the table, we see the number of rows goes down\n",
    "Housing_data = Housing_data.dropna()\n",
    "Housing_data.count()\n",
    "print(Housing_data)"
   ]
  },
  {
   "cell_type": "markdown",
   "metadata": {
    "colab_type": "text",
    "id": "PGEx6mJsp6dG"
   },
   "source": [
    "**2.6. Visualizing the data**\n",
    "\n",
    "To visualize the data, why not subset on a particular London Borough? Maybe do a line plot of Month against Average Price?"
   ]
  },
  {
   "cell_type": "code",
   "execution_count": 11,
   "metadata": {
    "colab": {},
    "colab_type": "code",
    "id": "nAg5pT9cqHAR"
   },
   "outputs": [
    {
     "name": "stdout",
     "output_type": "stream",
     "text": [
      "      Borough   Postcode Year-Month  Average Price\n",
      "43     LONDON  E12000007 1995-01-01    74435.76052\n",
      "91     LONDON  E12000007 1995-02-01    72777.93709\n",
      "139    LONDON  E12000007 1995-03-01    73896.84204\n",
      "187    LONDON  E12000007 1995-04-01    74455.28754\n",
      "235    LONDON  E12000007 1995-05-01    75432.02786\n",
      "...       ...        ...        ...            ...\n",
      "15931  LONDON  E12000007 2022-08-01   545608.08542\n",
      "15979  LONDON  E12000007 2022-09-01   546005.12615\n",
      "16027  LONDON  E12000007 2022-10-01   539975.01492\n",
      "16075  LONDON  E12000007 2022-11-01   542910.65717\n",
      "16123  LONDON  E12000007 2022-12-01   543098.82276\n",
      "\n",
      "[336 rows x 4 columns]\n"
     ]
    },
    {
     "data": {
      "image/png": "[encoded data removed]",
      "text/plain": [
       "<Figure size 640x480 with 1 Axes>"
      ]
     },
     "metadata": {},
     "output_type": "display_data"
    }
   ],
   "source": [
    "#plot the Average price by year-month for one borough, we can see that the average price increasing\n",
    "# over the time period of this data (1995 to 2022) there is a large increase first 14 yrs(1995 - 2008)\n",
    "#from 2008 to 2016 we see a smaller increase and then the increase accelerates again from 2015 to 2019\n",
    "# from 2019 and 2021 the pricing is pretty flat\n",
    "Housing_data_London = Housing_data[Housing_data['Borough'] == 'LONDON']\n",
    "print(Housing_data_London)\n",
    "plt.plot(Housing_data_London['Year-Month'], Housing_data_London['Average Price'])\n",
    "plt.show()"
   ]
  },
  {
   "cell_type": "markdown",
   "metadata": {
    "colab_type": "text",
    "id": "aWTPqSJeqHnC"
   },
   "source": [
    "To limit the number of data points you have, you might want to extract the year from every month value your *Month* column. \n",
    "\n",
    "To this end, you *could* apply a ***lambda function***. Your logic could work as follows:\n",
    "1. look through the `Month` column\n",
    "2. extract the year from each individual value in that column \n",
    "3. store that corresponding year as separate column. \n",
    "\n",
    "Whether you go ahead with this is up to you. Just so long as you answer our initial brief: which boroughs of London have seen the greatest house price increase, on average, over the past two decades? "
   ]
  },
  {
   "cell_type": "code",
   "execution_count": 12,
   "metadata": {
    "colab": {},
    "colab_type": "code",
    "id": "e0DF92cyqnu8"
   },
   "outputs": [
    {
     "name": "stdout",
     "output_type": "stream",
     "text": [
      "                  Borough   Postcode Year-Month  Average Price  Year\n",
      "0          City of London  E09000001 1995-01-01    91448.98487  1995\n",
      "1      Barking & Dagenham  E09000002 1995-01-01    50460.22660  1995\n",
      "2                  Barnet  E09000003 1995-01-01    93284.51832  1995\n",
      "3                  Bexley  E09000004 1995-01-01    64958.09036  1995\n",
      "4                   Brent  E09000005 1995-01-01    71306.56698  1995\n",
      "...                   ...        ...        ...            ...   ...\n",
      "16122     EAST OF ENGLAND  E12000006 2022-12-01   363779.44643  2022\n",
      "16123              LONDON  E12000007 2022-12-01   543098.82276  2022\n",
      "16124          SOUTH EAST  E12000008 2022-12-01   404228.91584  2022\n",
      "16125          SOUTH WEST  E12000009 2022-12-01   330601.04469  2022\n",
      "16127             England  E92000001 2022-12-01   315119.06969  2022\n",
      "\n",
      "[15120 rows x 5 columns]\n"
     ]
    },
    {
     "data": {
      "image/png": "[encoded data removed]",
      "text/plain": [
       "<Figure size 640x480 with 1 Axes>"
      ]
     },
     "metadata": {},
     "output_type": "display_data"
    }
   ],
   "source": [
    "#extract the year from each data point. \n",
    "#when we now plor this we can see steps in the data which show that the average price increase during that year\n",
    "Housing_data['Year'] = Housing_data['Year-Month'].dt.year\n",
    "print(Housing_data)\n",
    "Housing_data_London_1 = Housing_data[Housing_data['Borough'] == 'LONDON']\n",
    "plt.plot(Housing_data_London_1['Year'], Housing_data_London_1['Average Price'])\n",
    "plt.show()"
   ]
  },
  {
   "cell_type": "markdown",
   "metadata": {
    "colab_type": "text",
    "id": "2knuTxAEqoJ4"
   },
   "source": [
    "**3. Modeling**\n",
    "\n",
    "Consider creating a function that will calculate a ratio of house prices, comparing the price of a house in 2018 to the price in 1998.\n",
    "\n",
    "Consider calling this function create_price_ratio.\n",
    "\n",
    "You'd want this function to:\n",
    "1. Take a filter of dfg, specifically where this filter constrains the London_Borough, as an argument. For example, one admissible argument should be: dfg[dfg['London_Borough']=='Camden'].\n",
    "2. Get the Average Price for that Borough, for the years 1998 and 2018.\n",
    "4. Calculate the ratio of the Average Price for 1998 divided by the Average Price for 2018.\n",
    "5. Return that ratio.\n",
    "\n",
    "Once you've written this function, you ultimately want to use it to iterate through all the unique London_Boroughs and work out the ratio capturing the difference of house prices between 1998 and 2018.\n",
    "\n",
    "Bear in mind: you don't have to write a function like this if you don't want to. If you can solve the brief otherwise, then great! \n",
    "\n",
    "***Hint***: This section should test the skills you acquired in:\n",
    "- Python Data Science Toolbox - Part One, all modules"
   ]
  },
  {
   "cell_type": "code",
   "execution_count": 15,
   "metadata": {
    "colab": {},
    "colab_type": "code",
    "id": "cKTyr437UgDa"
   },
   "outputs": [
    {
     "name": "stdout",
     "output_type": "stream",
     "text": [
      "                  Borough   Postcode Year-Month  Average Price  Year  \\\n",
      "11520      City of London  E09000001 2015-01-01   783666.56960  2015   \n",
      "11521  Barking & Dagenham  E09000002 2015-01-01   220070.15100  2015   \n",
      "11522              Barnet  E09000003 2015-01-01   461382.52300  2015   \n",
      "11523              Bexley  E09000004 2015-01-01   261751.28910  2015   \n",
      "11524               Brent  E09000005 2015-01-01   422944.05460  2015   \n",
      "...                   ...        ...        ...            ...   ...   \n",
      "16122     EAST OF ENGLAND  E12000006 2022-12-01   363779.44643  2022   \n",
      "16123              LONDON  E12000007 2022-12-01   543098.82276  2022   \n",
      "16124          SOUTH EAST  E12000008 2022-12-01   404228.91584  2022   \n",
      "16125          SOUTH WEST  E12000009 2022-12-01   330601.04469  2022   \n",
      "16127             England  E92000001 2022-12-01   315119.06969  2022   \n",
      "\n",
      "       price_increase_ratio  \n",
      "11520              8.569440  \n",
      "11521              4.361260  \n",
      "11522              4.945971  \n",
      "11523              4.029541  \n",
      "11524              5.931348  \n",
      "...                     ...  \n",
      "16122              2.564390  \n",
      "16123              2.669611  \n",
      "16124              2.421424  \n",
      "16125              2.379113  \n",
      "16127              2.626384  \n",
      "\n",
      "[4320 rows x 6 columns]\n",
      "                  Borough  Year  price_increase_ratio\n",
      "11520      City of London  2015              8.569440\n",
      "11521  Barking & Dagenham  2015              4.361260\n",
      "11522              Barnet  2015              4.945971\n",
      "11523              Bexley  2015              4.029541\n",
      "11524               Brent  2015              5.931348\n",
      "...                   ...   ...                   ...\n",
      "16122     EAST OF ENGLAND  2022              2.564390\n",
      "16123              LONDON  2022              2.669611\n",
      "16124          SOUTH EAST  2022              2.421424\n",
      "16125          SOUTH WEST  2022              2.379113\n",
      "16127             England  2022              2.626384\n",
      "\n",
      "[4320 rows x 3 columns]\n"
     ]
    }
   ],
   "source": [
    "# Create a new empty list to store the price increase ratio over a given 20 year period\n",
    "price_increase_ratio_list = []\n",
    "\n",
    "# Use a for loop to iterate over each row and calculate the price increase ratio\n",
    "for index, row in Housing_data.iterrows():\n",
    "    #since data starts at 1995 the first 20 year period will start in 2015 \n",
    "    if row['Year'] >= 2015:\n",
    "            old_yearmonth = row['Year-Month'] - pd.DateOffset(years=20)\n",
    "            #find the row containing the average price data for the current borough from 20 years ago\n",
    "            #print(old_yearmonth)\n",
    "            old_borough = row['Borough']\n",
    "            #print(old_borough)\n",
    "            old_average_price = Housing_data.loc[(Housing_data['Borough'] == old_borough) & (Housing_data['Year-Month'] == old_yearmonth),  'Average Price'].values[0]\n",
    "            #price increase ratio is the current average price/old average price. this gives us a ratio of increase.\n",
    "            price_increase_ratio = row['Average Price']/old_average_price\n",
    "            price_increase_ratio_list.append(price_increase_ratio)\n",
    "    else:\n",
    "            #if 'Year is less than 2015 than the ratio is set to 0'\n",
    "            price_increase_ratio = 0\n",
    "            price_increase_ratio_list.append(price_increase_ratio)\n",
    "# Add the new calculated data column to housing data\n",
    "Housing_data['price_increase_ratio'] = price_increase_ratio_list\n",
    "# drop all rows that have a ratio of 0\n",
    "Housing_data_new = Housing_data[Housing_data['price_increase_ratio'] != 0]\n",
    "print(Housing_data_new)\n",
    "\n",
    "#drop columns not needed for calculations and create a new dataframe\n",
    "Housing_data_priceinc = Housing_data_new.drop(columns = ['Postcode', 'Year-Month', 'Average Price'])\n",
    "print(Housing_data_priceinc)\n",
    "\n",
    "\n"
   ]
  },
  {
   "cell_type": "code",
   "execution_count": 16,
   "metadata": {},
   "outputs": [
    {
     "name": "stdout",
     "output_type": "stream",
     "text": [
      "              Borough  Year  price_increase_ratio\n",
      "0  Barking & Dagenham  2015              4.508235\n",
      "1  Barking & Dagenham  2016              5.296050\n",
      "2  Barking & Dagenham  2017              5.140945\n",
      "3  Barking & Dagenham  2018              4.899694\n",
      "4  Barking & Dagenham  2019              4.568616\n"
     ]
    }
   ],
   "source": [
    "#group data by borough and year and calculate the mean ratio for each year\n",
    "grouped_priceinc = Housing_data_priceinc.groupby(by = ['Borough', 'Year']).agg({'price_increase_ratio':'mean'})\n",
    "#reset index\n",
    "grouped_priceinc = grouped_priceinc.reset_index()\n",
    "print(grouped_priceinc.head())"
   ]
  },
  {
   "cell_type": "code",
   "execution_count": 17,
   "metadata": {},
   "outputs": [
    {
     "name": "stdout",
     "output_type": "stream",
     "text": [
      "Borough  Barking & Dagenham    Barnet    Bexley     Brent   Bromley    Camden  \\\n",
      "Year                                                                            \n",
      "2015               4.508235  5.215818  4.265705  6.037991  4.704782  6.545448   \n",
      "2016               5.296050  5.598496  4.909435  6.509292  5.123647  6.064941   \n",
      "2017               5.140945  5.052367  4.745765  5.637467  4.693684  5.610570   \n",
      "2018               4.899694  4.361584  4.251369  4.900955  4.099450  4.941133   \n",
      "2019               4.568616  3.840179  3.890742  4.251918  3.621960  4.437741   \n",
      "\n",
      "Borough  City of London   Croydon  EAST MIDLANDS  EAST OF ENGLAND  ...  \\\n",
      "Year                                                               ...   \n",
      "2015           7.877219  4.455299       3.493611         4.259256  ...   \n",
      "2016           7.788615  5.103439       3.682862         4.692134  ...   \n",
      "2017           7.294454  4.808765       3.659918         4.507817  ...   \n",
      "2018           5.339590  4.204831       3.633120         4.169066  ...   \n",
      "2019           4.694627  3.772713       3.460049         3.782503  ...   \n",
      "\n",
      "Borough  SOUTH EAST  SOUTH WEST  Southwark    Sutton  Tower Hamlets  \\\n",
      "Year                                                                  \n",
      "2015       4.295095    4.040166   7.292487  4.594801       6.634154   \n",
      "2016       4.595746    4.213421   7.283396  5.098368       6.528969   \n",
      "2017       4.245161    4.023013   6.489731  4.659954       5.370306   \n",
      "2018       3.831439    3.797136   5.534902  4.120200       4.636131   \n",
      "2019       3.421415    3.431841   4.553506  3.698791       3.893952   \n",
      "\n",
      "Borough  WEST MIDLANDS  Waltham Forest  Wandsworth  Westminster  \\\n",
      "Year                                                              \n",
      "2015          3.329107        5.833764    6.446814     7.217637   \n",
      "2016          3.501715        6.643970    6.599177     7.160761   \n",
      "2017          3.449846        6.400954    5.736970     6.451770   \n",
      "2018          3.313159        5.837933    4.761165     5.363837   \n",
      "2019          3.250922        5.154856    4.086480     4.487400   \n",
      "\n",
      "Borough  YORKS & THE HUMBER  \n",
      "Year                         \n",
      "2015               3.160250  \n",
      "2016               3.324586  \n",
      "2017               3.342072  \n",
      "2018               3.356025  \n",
      "2019               3.303454  \n",
      "\n",
      "[5 rows x 45 columns]\n"
     ]
    }
   ],
   "source": [
    "#create pivot table to reorganize data by year as index and boroughs as columns\n",
    "pivoted_Housingdata = grouped_priceinc.pivot(index = 'Year', columns = 'Borough', values = 'price_increase_ratio')\n",
    "print(pivoted_Housingdata.head())"
   ]
  },
  {
   "cell_type": "code",
   "execution_count": 18,
   "metadata": {},
   "outputs": [
    {
     "name": "stdout",
     "output_type": "stream",
     "text": [
      "Year                      2015\n",
      "Borough                       \n",
      "City of London        7.877219\n",
      "Hackney               7.675131\n",
      "Southwark             7.292487\n",
      "Westminster           7.217637\n",
      "Lambeth               6.921994\n",
      "Inner London          6.770258\n",
      "Kensington & Chelsea  6.761744\n",
      "Islington             6.733730\n",
      "Tower Hamlets         6.634154\n",
      "Camden                6.545448\n"
     ]
    },
    {
     "data": {
      "image/png": "[encoded data removed]",
      "text/plain": [
       "<Figure size 640x480 with 1 Axes>"
      ]
     },
     "metadata": {},
     "output_type": "display_data"
    }
   ],
   "source": [
    "# we will find the boroughs which had the top 10 largest increase in average price over a 20 year period in 2015, 2019 and 2022 \n",
    "# we create a new dataframe with just the data for the year of interest and find the largest 10 price increase ratios\n",
    "#for 2015\n",
    "price_increase_2015 = pivoted_Housingdata.loc[[2015]]\n",
    "top_10_price_increase_2015 = price_increase_2015.apply(lambda x: x.nlargest(10), axis=1)\n",
    "top_10_price_increase_2015_T = top_10_price_increase_2015.T\n",
    "print(top_10_price_increase_2015_T)\n",
    "top_10_price_increase_2015_T.plot(kind = 'bar')\n",
    "plt.show()"
   ]
  },
  {
   "cell_type": "code",
   "execution_count": 19,
   "metadata": {},
   "outputs": [
    {
     "name": "stdout",
     "output_type": "stream",
     "text": [
      "Year                    2019\n",
      "Borough                     \n",
      "Hackney             5.276431\n",
      "Waltham Forest      5.154856\n",
      "Newham              4.900356\n",
      "Lewisham            4.841145\n",
      "City of London      4.694627\n",
      "Haringey            4.570663\n",
      "Barking & Dagenham  4.568616\n",
      "Southwark           4.553506\n",
      "Westminster         4.487400\n",
      "Inner London        4.465728\n"
     ]
    },
    {
     "data": {
      "image/png": "[encoded data removed]",
      "text/plain": [
       "<Figure size 640x480 with 1 Axes>"
      ]
     },
     "metadata": {},
     "output_type": "display_data"
    }
   ],
   "source": [
    "#for 2019\n",
    "price_increase_2019 = pivoted_Housingdata.loc[[2019]]\n",
    "top_10_price_increase_2019 = price_increase_2019.apply(lambda x: x.nlargest(10), axis=1)\n",
    "top_10_price_increase_2019_T = top_10_price_increase_2019.T\n",
    "print(top_10_price_increase_2019_T)\n",
    "top_10_price_increase_2019_T.plot(kind = 'bar')\n",
    "plt.show()"
   ]
  },
  {
   "cell_type": "code",
   "execution_count": 29,
   "metadata": {},
   "outputs": [
    {
     "name": "stdout",
     "output_type": "stream",
     "text": [
      "Year                      2022\n",
      "Borough                       \n",
      "Hackney               3.511247\n",
      "Waltham Forest        3.387735\n",
      "Lewisham              3.178992\n",
      "City of London        3.167515\n",
      "Kensington & Chelsea  3.119471\n",
      "Barking & Dagenham    3.101400\n",
      "NORTH WEST            3.079328\n",
      "Haringey              3.064547\n",
      "Newham                3.007600\n",
      "YORKS & THE HUMBER    2.981822\n"
     ]
    },
    {
     "data": {
      "image/png": "[encoded data removed]",
      "text/plain": [
       "<Figure size 640x480 with 1 Axes>"
      ]
     },
     "metadata": {},
     "output_type": "display_data"
    }
   ],
   "source": [
    "#for 2022\n",
    "price_increase_2022 = pivoted_Housingdata.loc[[2022]]\n",
    "top_10_price_increase_2022 = price_increase_2022.apply(lambda x: x.nlargest(10), axis=1)\n",
    "top_10_price_increase_2022_T = top_10_price_increase_2022.T\n",
    "print(top_10_price_increase_2022_T)\n",
    "top_10_price_increase_2022_T.plot(kind = 'bar')\n",
    "plt.show()\n"
   ]
  },
  {
   "cell_type": "markdown",
   "metadata": {
    "colab_type": "text",
    "id": "NzYUI7FxJpgv"
   },
   "source": [
    "### 4. Conclusion\n",
    "What can you conclude? Type out your conclusion below. \n",
    "\n",
    "Look back at your notebook. Think about how you might summarize what you have done, and prepare a quick presentation on it to your mentor at your next meeting. \n",
    "\n",
    "We hope you enjoyed this practical project. It should have consolidated your data hygiene and pandas skills by looking at a real-world problem involving just the kind of dataset you might encounter as a budding data scientist. Congratulations, and looking forward to seeing you at the next step in the course! "
   ]
  },
  {
   "cell_type": "markdown",
   "metadata": {},
   "source": [
    "#Conclusions\n",
    "1. The Borough of Hackney is the Borough with largest price increases over this time period.\n",
    "2. Hackney had the largest average price increase in the two decades before 2019 and 2022 (pre and post Pandemic)\n",
    "3. Price increase from 1995 to 2015 is much larger than the one from 2002 to 2022\n",
    "\n",
    "By looking at the plot of average price vas year we can also see the below\n",
    "4. slow down in the price appreciation between 2008 and 2014 in the aftermath of the recession of 2008\n",
    "5. We can slo see that between 2019 and 2021 there was very little price appreciation during the Pandemic\n",
    "\n",
    "\n"
   ]
  },
  {
   "cell_type": "code",
   "execution_count": null,
   "metadata": {},
   "outputs": [],
   "source": []
  }
 ],
 "metadata": {
  "colab": {
   "collapsed_sections": [],
   "name": "Springboard Data Science Career Track Unit 4 Challenge - Tier 3 Complete .ipynb",
   "provenance": []
  },
  "kernelspec": {
   "display_name": "Python 3 (ipykernel)",
   "language": "python",
   "name": "python3"
  },
  "language_info": {
   "codemirror_mode": {
    "name": "ipython",
    "version": 3
   },
   "file_extension": ".py",
   "mimetype": "text/x-python",
   "name": "python",
   "nbconvert_exporter": "python",
   "pygments_lexer": "ipython3",
   "version": "3.10.9"
  }
 },
 "nbformat": 4,
 "nbformat_minor": 1
}
